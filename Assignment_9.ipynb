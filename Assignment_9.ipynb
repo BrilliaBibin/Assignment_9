{
 "cells": [
  {
   "cell_type": "raw",
   "id": "923f5b69-af08-4dc0-96d0-869387925ad6",
   "metadata": {},
   "source": [
    "1. To what does a relative path refer?\n",
    "\n",
    "      Relative paths are relative to the current working directory."
   ]
  },
  {
   "cell_type": "code",
   "execution_count": 2,
   "id": "73545af0-8960-4c38-bd54-5ef9de0a103a",
   "metadata": {},
   "outputs": [
    {
     "name": "stdout",
     "output_type": "stream",
     "text": [
      "Desktop/code/pyt/database\n"
     ]
    }
   ],
   "source": [
    "import os\n",
    "\n",
    "path = \"/Users/Admin/Desktop/code/pyt/database\"\n",
    "  \n",
    "start = \"/Users/Admin\"\n",
    "\n",
    "relative_path = os.path.relpath(path, start)\n",
    "\n",
    "print(relative_path)"
   ]
  },
  {
   "cell_type": "raw",
   "id": "2cbc29d4-6616-4c0c-85bf-d8de2e5c1c83",
   "metadata": {},
   "source": [
    "2. What does an absolute path start with your operating system?\n",
    "\n",
    "     Absolute paths start with the root folder, such as / or C:\\."
   ]
  },
  {
   "cell_type": "code",
   "execution_count": 1,
   "id": "39011e66-b41f-45c2-83f8-ac6501319387",
   "metadata": {},
   "outputs": [
    {
     "data": {
      "text/plain": [
       "'/home/jovyan/work/src/abcfile.txt'"
      ]
     },
     "execution_count": 1,
     "metadata": {},
     "output_type": "execute_result"
    }
   ],
   "source": [
    "import os\n",
    "\n",
    "os.path.abspath(\"src/abcfile.txt\")"
   ]
  },
  {
   "cell_type": "raw",
   "id": "a52ec5d8-6d73-4c0a-b126-18f143f0f4c0",
   "metadata": {},
   "source": [
    "3. What do the functions os.getcwd() and os.chdir() do?\n",
    "\n",
    "       The os.getcwd() function returns the current working directory. The os.chdir() function changes the current working directory."
   ]
  },
  {
   "cell_type": "code",
   "execution_count": 2,
   "id": "ab0c26fc-24dc-4808-aad1-58398072b138",
   "metadata": {},
   "outputs": [
    {
     "name": "stdout",
     "output_type": "stream",
     "text": [
      "Current working directory before\n",
      "/home/jovyan/work\n",
      "\n",
      "Current working directory before\n",
      "/home/jovyan\n",
      "\n"
     ]
    }
   ],
   "source": [
    "import os\n",
    "\n",
    "def current_path():\n",
    "\tprint(\"Current working directory before\")\n",
    "\tprint(os.getcwd())\n",
    "\tprint()\n",
    "\n",
    "\n",
    "current_path()\n",
    "\n",
    "os.chdir('../')\n",
    "\n",
    "current_path()\n"
   ]
  },
  {
   "cell_type": "raw",
   "id": "07e5984b-a4d5-455b-baf5-0331ddc40ef7",
   "metadata": {},
   "source": [
    "4. What are the . and .. folders?\n",
    "\n",
    "       The . folder is the current folder, and .. is the parent folder."
   ]
  },
  {
   "cell_type": "code",
   "execution_count": 12,
   "id": "4c8ab91b-000c-4557-82ee-47dbb8a06ef7",
   "metadata": {},
   "outputs": [
    {
     "data": {
      "text/plain": [
       "'/home/jovyan'"
      ]
     },
     "execution_count": 12,
     "metadata": {},
     "output_type": "execute_result"
    }
   ],
   "source": [
    "import os\n",
    "os.path.abspath('.')\n"
   ]
  },
  {
   "cell_type": "code",
   "execution_count": 11,
   "id": "a7c3a0d4-303e-4fa1-8519-73a8e3c9ac3d",
   "metadata": {},
   "outputs": [
    {
     "data": {
      "text/plain": [
       "'/home'"
      ]
     },
     "execution_count": 11,
     "metadata": {},
     "output_type": "execute_result"
    }
   ],
   "source": [
    "os.path.abspath('..')"
   ]
  },
  {
   "cell_type": "raw",
   "id": "e4f1f2be-8593-489e-ae67-48f8fd7894ac",
   "metadata": {},
   "source": [
    "5. In C:\\bacon\\eggs\\spam.txt, which part is the dir name, and which part is the base name?\n",
    "\n",
    "          C:\\bacon\\eggs is the dir name, while spam.txt is the base name."
   ]
  },
  {
   "cell_type": "code",
   "execution_count": 57,
   "id": "474d308e-58a9-47cd-9a76-160b5d16faac",
   "metadata": {},
   "outputs": [
    {
     "name": "stdout",
     "output_type": "stream",
     "text": [
      "C:/bacon/eggs\n",
      "spam.txt\n"
     ]
    }
   ],
   "source": [
    "import os\n",
    "\n",
    "file_path = 'C:/bacon/eggs/spam.txt' \n",
    "\n",
    "dirname = os.path.dirname(file_path)\n",
    "print(dirname)\n",
    "\n",
    "file_name = os.path.basename(file_path)\n",
    "\n",
    "print(file_name)\n"
   ]
  },
  {
   "cell_type": "raw",
   "id": "0169c894-800e-41d4-8b02-0acd620100f8",
   "metadata": {},
   "source": [
    "6. What are the three “mode” arguments that can be passed to the open() function?\n",
    "\n",
    "              The string 'r' for read mode, 'w' for write mode, and 'a' for append mode"
   ]
  },
  {
   "cell_type": "code",
   "execution_count": 76,
   "id": "aa16df08-3670-4d88-8031-c020df3128b8",
   "metadata": {},
   "outputs": [
    {
     "name": "stdout",
     "output_type": "stream",
     "text": [
      "abc is short \n"
     ]
    }
   ],
   "source": [
    "my_file = open(\"abc.txt\", \"w\")\n",
    "my_file.write(\"abc is short \")\n",
    "my_file.close()\n",
    "\n",
    "my_file = open(\"abc.txt\",\"r\")\n",
    "print(my_file.read())\n"
   ]
  },
  {
   "cell_type": "code",
   "execution_count": 77,
   "id": "101ec927-daa3-47f9-921f-52649b9fc300",
   "metadata": {},
   "outputs": [
    {
     "name": "stdout",
     "output_type": "stream",
     "text": [
      "abc is short   lets brief it\n"
     ]
    }
   ],
   "source": [
    "my_file = open(\"abc.txt\",\"a\")\n",
    "my_file.write(\"  lets brief it\")\n",
    "my_file.close()\n",
    "\n",
    "# reading the file\n",
    "my_file = open(\"abc.txt\",\"r\")\n",
    "print(my_file.read())\n"
   ]
  },
  {
   "cell_type": "raw",
   "id": "a4ae4ecd-a9c8-41b0-ac55-fbdff9ca7f3e",
   "metadata": {},
   "source": [
    "7. What happens if an existing file is opened in write mode?\n",
    "\n",
    "       An existing file opened in write mode is erased and completely overwritten."
   ]
  },
  {
   "cell_type": "code",
   "execution_count": 80,
   "id": "537e98bf-6a56-41cf-8d62-5b49f022dde5",
   "metadata": {},
   "outputs": [
    {
     "name": "stdout",
     "output_type": "stream",
     "text": [
      "<_io.TextIOWrapper name='abc.txt' mode='r+' encoding='UTF-8'>\n"
     ]
    }
   ],
   "source": [
    "my_file = open(\"abc.txt\", \"r+\")\n",
    "print(my_file)"
   ]
  },
  {
   "cell_type": "code",
   "execution_count": 1,
   "id": "fd3526f4-bc32-4ca0-9346-338e6c45da4e",
   "metadata": {},
   "outputs": [
    {
     "name": "stdout",
     "output_type": "stream",
     "text": [
      "<_io.TextIOWrapper name='abc.txt' mode='w+' encoding='UTF-8'>\n"
     ]
    }
   ],
   "source": [
    "my_file = open(\"abc.txt\", \"w+\")\n",
    "print(my_file)"
   ]
  },
  {
   "cell_type": "raw",
   "id": "76adae3b-2ffc-48dd-a2c4-f4088ca5a9cc",
   "metadata": {},
   "source": [
    "8. How do you tell the difference between read() and readlines()?\n",
    "\n",
    "       The read() will read the whole file at once and then print out the first characters that take up as many bytes as you specify in the parenthesis versus the readline() that will read and print out only the first characters that take up as many bytes as you specify in the parenthesis. "
   ]
  },
  {
   "cell_type": "code",
   "execution_count": 10,
   "id": "b3002e6d-03a4-4e12-9c01-597097a9ba0a",
   "metadata": {},
   "outputs": [
    {
     "name": "stdout",
     "output_type": "stream",
     "text": [
      "first person \n",
      "second\n"
     ]
    }
   ],
   "source": [
    "with open(\"abc.txt\", \"r\") as file:\n",
    "    content = file.read(20)\n",
    "    print(content)"
   ]
  },
  {
   "cell_type": "code",
   "execution_count": 12,
   "id": "a558a56e-28a0-41a3-b1e6-5bcaf353cac7",
   "metadata": {},
   "outputs": [
    {
     "name": "stdout",
     "output_type": "stream",
     "text": [
      "['first person \\n', 'second person\\n', 'third person']\n"
     ]
    }
   ],
   "source": [
    "with open(\"abc.txt\", \"r\") as file:\n",
    "    lines = file.readlines()\n",
    "    print(lines)"
   ]
  },
  {
   "cell_type": "raw",
   "id": "4cf2b2e1-b517-4969-9c4f-ac5316dc7cb8",
   "metadata": {},
   "source": [
    "9. What data structure does a shelf value resemble?\n",
    "\n",
    "         A shelf value resembles a dictionary value; it has keys and values, along with keys() and values() methods that work similarly to the dictionary methods of the same names."
   ]
  }
 ],
 "metadata": {
  "kernelspec": {
   "display_name": "Python 3 (ipykernel)",
   "language": "python",
   "name": "python3"
  },
  "language_info": {
   "codemirror_mode": {
    "name": "ipython",
    "version": 3
   },
   "file_extension": ".py",
   "mimetype": "text/x-python",
   "name": "python",
   "nbconvert_exporter": "python",
   "pygments_lexer": "ipython3",
   "version": "3.10.6"
  }
 },
 "nbformat": 4,
 "nbformat_minor": 5
}
